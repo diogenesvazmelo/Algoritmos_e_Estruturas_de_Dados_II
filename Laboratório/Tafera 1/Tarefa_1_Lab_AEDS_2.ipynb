{
  "nbformat": 4,
  "nbformat_minor": 0,
  "metadata": {
    "colab": {
      "name": "Tarefa_1_Lab_AEDS_2.ipynb",
      "provenance": []
    },
    "kernelspec": {
      "name": "python3",
      "display_name": "Python 3"
    }
  },
  "cells": [
    {
      "cell_type": "code",
      "metadata": {
        "colab": {
          "base_uri": "https://localhost:8080/"
        },
        "id": "UFB5tc6JmqfC",
        "outputId": "ceb456d5-154a-41bb-97a5-532ba27971fa"
      },
      "source": [
        "from datetime import datetime\r\n",
        "\r\n",
        "class Autor():\r\n",
        "  qt_autores = 0\r\n",
        "  #construtor possui o nome __init__\r\n",
        "  def __init__(self, nome, nascimento):\r\n",
        "    self.nome = nome\r\n",
        "    self.nascimento = datetime.strptime(nascimento, '%d/%m/%Y')\r\n",
        "    Autor.qt_autores += 1 \r\n",
        "      \r\n",
        "  def __str__(self):\r\n",
        "    return \"Nome: \" + self.nome + \"\\n\" + \"Nascimento: \" + self.nascimento.strftime(\"%d/%m/%Y\")\r\n",
        "  \r\n",
        "  def __repr__(self):\r\n",
        "    return str(self)\r\n",
        "  \r\n",
        "  @property\r\n",
        "  def nome_como_citado(self):\r\n",
        "    arr_nomes = self.nome.split(\" \")\r\n",
        "    prim_nome = arr_nomes[0] if len(arr_nomes)>1 else \"\"\r\n",
        "    nome_meio = \" \".join(arr_nomes[1:len(arr_nomes)-1]) if len(arr_nomes)>2 else \"\"\r\n",
        "    ult_nome = \" \".join(arr_nomes[2:]) if len(arr_nomes)>2 else \"\".join(arr_nomes[1:]) if len(arr_nomes)==2 else \"\".join(arr_nomes[0:])\r\n",
        "\r\n",
        "    return \"{ult_nome} {prim_nome_letra}.\".format(ult_nome = ult_nome.upper(), prim_nome_letra = prim_nome.upper()[0])\r\n",
        "\r\n",
        "a4 = Autor(\"Fulano Pacoca\", \"10/02/1993\")\r\n",
        "a3 = Autor(\"Maria Oliveira\", \"10/02/1993\")\r\n",
        "a2 = Autor(\"Pedro Rodrigues\", \"10/02/1993\")\r\n",
        "a1 = Autor(\"Joao Silva\", \"10/02/1993\")\r\n",
        "a1.nome_como_citado\r\n",
        "a1.nascimento\r\n",
        "a1"
      ],
      "execution_count": 120,
      "outputs": [
        {
          "output_type": "execute_result",
          "data": {
            "text/plain": [
              "Nome: Joao Silva\n",
              "Nascimento: 10/02/1993"
            ]
          },
          "metadata": {
            "tags": []
          },
          "execution_count": 120
        }
      ]
    },
    {
      "cell_type": "code",
      "metadata": {
        "colab": {
          "base_uri": "https://localhost:8080/"
        },
        "id": "cU8_mC5AJJQG",
        "outputId": "448eea99-f8ec-45ec-cd94-b45d6bee0a2d"
      },
      "source": [
        "class Livro():\r\n",
        "  #construtor possui o nome __init__\r\n",
        "  qt_livros = 0\r\n",
        "  def __init__(self, titulo, ano, autores = []):\r\n",
        "    self.titulo = titulo\r\n",
        "    self.ano = ano\r\n",
        "    self.autores = autores\r\n",
        "    Livro.qt_livros += 1\r\n",
        "  \r\n",
        "  def __str__(self):\r\n",
        "    return \"Titulo: \" + \"'\" + self.titulo + \"'\"\r\n",
        "  \r\n",
        "  def __repr__(self):\r\n",
        "    return str(self)\r\n",
        "  \r\n",
        "  @property\r\n",
        "  def titulo(self):\r\n",
        "    return self._titulo\r\n",
        "\r\n",
        "  @titulo.setter\r\n",
        "  def titulo(self, val):\r\n",
        "    if(len(val) < 0):\r\n",
        "      raise ValueError(\"Erro: não é possível um titulo vazio\")\r\n",
        "    self._titulo = val\r\n",
        "\r\n",
        "l2 = Livro(\"Dormir, Comer e Estudar\", 2005, [a3, a4, a2])\r\n",
        "l1 = Livro(\"As aventuras de B\", 1999, [a1, a2, a3])\r\n",
        "l1.titulo\r\n",
        "l1.autores\r\n",
        "l1\r\n"
      ],
      "execution_count": 121,
      "outputs": [
        {
          "output_type": "execute_result",
          "data": {
            "text/plain": [
              "Titulo: 'As aventuras de B'"
            ]
          },
          "metadata": {
            "tags": []
          },
          "execution_count": 121
        }
      ]
    },
    {
      "cell_type": "code",
      "metadata": {
        "colab": {
          "base_uri": "https://localhost:8080/"
        },
        "id": "bs1RJASwMcLn",
        "outputId": "07311b11-48dc-4bda-a5da-cde0458c1132"
      },
      "source": [
        "class Biblioteca():\r\n",
        "  qt_bibliotecas = 0\r\n",
        "  #construtor possui o nome __init__\r\n",
        "  def __init__(self, livros):\r\n",
        "    self.livros = livros\r\n",
        "    Biblioteca.qt_bibliotecas += 1\r\n",
        "  \r\n",
        "  def __str__(self):\r\n",
        "    return \"Lista de livros nessa biblioteca: \" + str(self.livros) \r\n",
        "  \r\n",
        "  def __repr__(self):\r\n",
        "    return str(self)\r\n",
        "  \r\n",
        "  @property\r\n",
        "  def livros_por_autor(self):\r\n",
        "    dicionario = {}\r\n",
        "\r\n",
        "    for livro in self.livros:\r\n",
        "      for autor in livro.autores:\r\n",
        "        dicionario [\"{}\".format(autor.nome_como_citado)] = []\r\n",
        "\r\n",
        "    for livro in self.livros:\r\n",
        "      for autor in livro.autores:\r\n",
        "        dicionario [\"{}\".format(autor.nome_como_citado)].append(livro.titulo)\r\n",
        "    return dicionario\r\n",
        "\r\n",
        "\r\n",
        "b1 = Biblioteca([l2, l1])\r\n",
        "print(b1.livros_por_autor)\r\n",
        "print(\"\\n{}\".format(b1))"
      ],
      "execution_count": 125,
      "outputs": [
        {
          "output_type": "stream",
          "text": [
            "{'OLIVEIRA M.': ['Dormir, Comer e Estudar', 'As aventuras de B'], 'PACOCA F.': ['Dormir, Comer e Estudar'], 'RODRIGUES P.': ['Dormir, Comer e Estudar', 'As aventuras de B'], 'SILVA J.': ['As aventuras de B']}\n",
            "\n",
            "Lista de livros nessa biblioteca: [Titulo: 'Dormir, Comer e Estudar', Titulo: 'As aventuras de B']\n"
          ],
          "name": "stdout"
        }
      ]
    }
  ]
}