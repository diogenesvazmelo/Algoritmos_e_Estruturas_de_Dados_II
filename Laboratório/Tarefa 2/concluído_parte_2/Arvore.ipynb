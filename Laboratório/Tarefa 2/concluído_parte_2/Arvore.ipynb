{
  "nbformat": 4,
  "nbformat_minor": 0,
  "metadata": {
    "kernelspec": {
      "display_name": "Python 3",
      "language": "python",
      "name": "python3"
    },
    "language_info": {
      "codemirror_mode": {
        "name": "ipython",
        "version": 3
      },
      "file_extension": ".py",
      "mimetype": "text/x-python",
      "name": "python",
      "nbconvert_exporter": "python",
      "pygments_lexer": "ipython3",
      "version": "3.6.9"
    },
    "colab": {
      "name": "Arvore.ipynb",
      "provenance": []
    }
  },
  "cells": [
    {
      "cell_type": "markdown",
      "metadata": {
        "id": "BoUN8QWOajKs"
      },
      "source": [
        "Antes de entregar, certifique-se que tenha executado todos os comandos/códigos deste Jupyter. É obrigatório que todas as saídas tenham sido apresentadas. Perda de 1 ponto caso não tenham feito isso. Qualquer linha de comando/código como a de baixo, você pode executá-la a selecionando e pressionando `ctrl+enter`."
      ]
    },
    {
      "cell_type": "markdown",
      "metadata": {
        "id": "EeRzZiksajK1"
      },
      "source": [
        "Nesta prática você deverá adicionar/modificar os métodos da classe `Node`, presente no arquivo `tree.py`, que essa classe representa o nodo de uma árvore binária e, por simplicidade, implementa uma árvore binária. Os métodos e atributos que já foram implementados são o seguinte:"
      ]
    },
    {
      "cell_type": "markdown",
      "metadata": {
        "id": "ySiQOYj9ajK3"
      },
      "source": [
        "- `key`: Valor da chave. Pode possuir qualquer tipo desde, nesse tipo, seja implementado os métodos que sobrecarregam os [operadores de comparação](https://docs.python.org/3.5/reference/datamodel.html#object.__lt__) ou [o total ordering](https://docs.python.org/3.5/library/functools.html#functools.total_ordering). Em nossa prática, vocês podem usar o tipo inteiro\n",
        "- `left`: Objeto da classe `Node` que define o seu filho a esquerda\n",
        "- `right`: Objeto da classe `Node` que define o seu filho a direita\n",
        "- `print_tree` Método que efetua a impressão da árvore\n",
        "- `insert`: Método que insere uma nova chave na árvore\n",
        "- `search`: Método que retorna verdadeiro caso uma chave está presente na árvore"
      ]
    },
    {
      "cell_type": "markdown",
      "metadata": {
        "id": "9OotrBoBajK4"
      },
      "source": [
        "**Atividade 1 - checar se uma árvore é balanceada:** Dada uma árvore binária, ela é considerada balanceada se, para cada nodo, suas sub-árvores da direita e da esquerda tem alturas que diferem em no máximo uma unidade. Você deve implementar o método `is_balanced` da classe `Nodo`. Ele deve receber a raiz da árvore e retornar um booleano que indica se a árvore é balanceada. Para validar o método, execute o teste unitário a seguir. Veja que o comando abaixo executa o teste unitário presente no arquivo `tree_test.py`. Analise-o para entender como implementamos testes unitários."
      ]
    },
    {
      "cell_type": "code",
      "metadata": {
        "colab": {
          "base_uri": "https://localhost:8080/"
        },
        "id": "u9TL_6v8ajK5",
        "outputId": "c4964a27-df22-4330-a073-c2f1cfba62db"
      },
      "source": [
        "!python3 -m tree_test TestNode.test_is_balanced"
      ],
      "execution_count": 1,
      "outputs": [
        {
          "output_type": "stream",
          "text": [
            ".\n",
            "----------------------------------------------------------------------\n",
            "Ran 1 test in 0.000s\n",
            "\n",
            "OK\n"
          ],
          "name": "stdout"
        }
      ]
    },
    {
      "cell_type": "markdown",
      "metadata": {
        "id": "fcilaRj1ajK6"
      },
      "source": [
        "**Atividade 2- transformar árvore em balanceada:** Agora, você deverá continuar a  implementação do método `sorted_array_to_balanced_tree` da classe `Nodo`. Esse método  transforma um vetor ordenado em uma árvore binária em balanceada. Dessa forma, o método `to_balanced_tree` funcionará adequadamente.  Para isso, você deverá modificar **apenas** os locais que estão com valores `None`. Este método deve retornar o novo nodo raiz desta árvore balanceada criada. \n",
        "\n",
        "Veja que o comando abaixo executa o teste unitário presente no arquivo `tree_test.py`. Analise-o para entender como implementamos testes unitários."
      ]
    },
    {
      "cell_type": "code",
      "metadata": {
        "colab": {
          "base_uri": "https://localhost:8080/"
        },
        "id": "0RuFkhqTajK8",
        "outputId": "48ff0104-97fc-4d31-faa2-7c72521b78db"
      },
      "source": [
        "!python3 -m tree_test TestNode.test_to_balanced_tree"
      ],
      "execution_count": 2,
      "outputs": [
        {
          "output_type": "stream",
          "text": [
            ".\n",
            "----------------------------------------------------------------------\n",
            "Ran 1 test in 0.000s\n",
            "\n",
            "OK\n"
          ],
          "name": "stdout"
        }
      ]
    }
  ]
}